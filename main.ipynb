{
 "cells": [
  {
   "cell_type": "markdown",
   "id": "22181f40e377fdb7",
   "metadata": {
    "collapsed": false
   },
   "source": []
  },
  {
   "cell_type": "markdown",
   "id": "687b3ceb8e1122df",
   "metadata": {
    "collapsed": false
   },
   "source": [
    "# Smart-Yoga Pillow (SaYoPillow) Overview\n",
    "\n",
    "Considering today's lifestyle, people just sleep, often forgetting the benefits sleep provides to the human body. The Smart-Yoga Pillow, or SaYoPillow, is proposed to help in understanding the relationship between stress and sleep and to fully materialize the idea of \"Smart-Sleeping\" by proposing an edge device. This device includes:\n",
    "\n",
    "- An **edge processor** with a model analyzing the physiological changes that occur during sleep, along with the sleeping habits.\n",
    "- Prediction of **stress levels** for the following day based on these changes during sleep.\n",
    "- The **secure transfer** of the analyzed stress data, along with the average physiological changes, to the IoT cloud for storage.\n",
    "- A **secure transfer** of any data from the cloud to any third-party applications.\n",
    "- A **user interface** allowing the user to control the data accessibility and visibility.\n",
    "\n",
    "SaYoPillow is novel, with security features as well as consideration of sleeping habits for stress reduction, achieving an accuracy of up to 96%.\n",
    "\n",
    "## Dataset Overview\n",
    "\n",
    "In the `SaYoPillow.csv` file, you will find the relationship between the following parameters:\n",
    "\n",
    "- Snoring range of the user\n",
    "- Respiration rate\n",
    "- Body temperature\n",
    "- Limb movement rate\n",
    "- Blood oxygen levels\n",
    "- Eye movement\n",
    "- Number of hours of sleep\n",
    "- Heart rate\n",
    "- Stress Levels (categorized as 0 - low/normal, 1 – medium low, 2- medium, 3 - medium high, 4 - high)\n"
   ]
  },
  {
   "cell_type": "code",
   "execution_count": 4,
   "id": "f0f4a0b0d3b323c7",
   "metadata": {
    "ExecuteTime": {
     "end_time": "2023-11-17T03:09:05.225766Z",
     "start_time": "2023-11-17T03:09:04.921824Z"
    },
    "collapsed": false
   },
   "outputs": [
    {
     "data": {
      "text/html": [
       "<div>\n",
       "<style scoped>\n",
       "    .dataframe tbody tr th:only-of-type {\n",
       "        vertical-align: middle;\n",
       "    }\n",
       "\n",
       "    .dataframe tbody tr th {\n",
       "        vertical-align: top;\n",
       "    }\n",
       "\n",
       "    .dataframe thead th {\n",
       "        text-align: right;\n",
       "    }\n",
       "</style>\n",
       "<table border=\"1\" class=\"dataframe\">\n",
       "  <thead>\n",
       "    <tr style=\"text-align: right;\">\n",
       "      <th></th>\n",
       "      <th>sr</th>\n",
       "      <th>rr</th>\n",
       "      <th>t</th>\n",
       "      <th>lm</th>\n",
       "      <th>bo</th>\n",
       "      <th>rem</th>\n",
       "      <th>sr.1</th>\n",
       "      <th>hr</th>\n",
       "      <th>sl</th>\n",
       "    </tr>\n",
       "  </thead>\n",
       "  <tbody>\n",
       "    <tr>\n",
       "      <th>0</th>\n",
       "      <td>93.80</td>\n",
       "      <td>25.680</td>\n",
       "      <td>91.840</td>\n",
       "      <td>16.600</td>\n",
       "      <td>89.840</td>\n",
       "      <td>99.60</td>\n",
       "      <td>1.840</td>\n",
       "      <td>74.20</td>\n",
       "      <td>3</td>\n",
       "    </tr>\n",
       "    <tr>\n",
       "      <th>1</th>\n",
       "      <td>91.64</td>\n",
       "      <td>25.104</td>\n",
       "      <td>91.552</td>\n",
       "      <td>15.880</td>\n",
       "      <td>89.552</td>\n",
       "      <td>98.88</td>\n",
       "      <td>1.552</td>\n",
       "      <td>72.76</td>\n",
       "      <td>3</td>\n",
       "    </tr>\n",
       "    <tr>\n",
       "      <th>2</th>\n",
       "      <td>60.00</td>\n",
       "      <td>20.000</td>\n",
       "      <td>96.000</td>\n",
       "      <td>10.000</td>\n",
       "      <td>95.000</td>\n",
       "      <td>85.00</td>\n",
       "      <td>7.000</td>\n",
       "      <td>60.00</td>\n",
       "      <td>1</td>\n",
       "    </tr>\n",
       "    <tr>\n",
       "      <th>3</th>\n",
       "      <td>85.76</td>\n",
       "      <td>23.536</td>\n",
       "      <td>90.768</td>\n",
       "      <td>13.920</td>\n",
       "      <td>88.768</td>\n",
       "      <td>96.92</td>\n",
       "      <td>0.768</td>\n",
       "      <td>68.84</td>\n",
       "      <td>3</td>\n",
       "    </tr>\n",
       "    <tr>\n",
       "      <th>4</th>\n",
       "      <td>48.12</td>\n",
       "      <td>17.248</td>\n",
       "      <td>97.872</td>\n",
       "      <td>6.496</td>\n",
       "      <td>96.248</td>\n",
       "      <td>72.48</td>\n",
       "      <td>8.248</td>\n",
       "      <td>53.12</td>\n",
       "      <td>0</td>\n",
       "    </tr>\n",
       "  </tbody>\n",
       "</table>\n",
       "</div>"
      ],
      "text/plain": [
       "      sr      rr       t      lm      bo    rem   sr.1     hr  sl\n",
       "0  93.80  25.680  91.840  16.600  89.840  99.60  1.840  74.20   3\n",
       "1  91.64  25.104  91.552  15.880  89.552  98.88  1.552  72.76   3\n",
       "2  60.00  20.000  96.000  10.000  95.000  85.00  7.000  60.00   1\n",
       "3  85.76  23.536  90.768  13.920  88.768  96.92  0.768  68.84   3\n",
       "4  48.12  17.248  97.872   6.496  96.248  72.48  8.248  53.12   0"
      ]
     },
     "execution_count": 4,
     "metadata": {},
     "output_type": "execute_result"
    }
   ],
   "source": [
    "import pandas as pd\n",
    "\n",
    "sayopillow_data = pd.read_csv('SaYoPillow.csv')\n",
    "\n",
    "sayopillow_data.head()\n"
   ]
  },
  {
   "cell_type": "markdown",
   "id": "71251f8ad4316988",
   "metadata": {
    "collapsed": false
   },
   "source": [
    "The SaYoPillow.csv dataset consists of the following columns:\n",
    "\n",
    "sr: Snoring range\n",
    "rr: Respiration rate\n",
    "t: Body temperature\n",
    "lm: Limb movement rate\n",
    "bo: Blood oxygen levels\n",
    "rem: Eye movement (REM - Rapid Eye Movement)\n",
    "sr.1: Number of hours of sleep (seems to be labeled incorrectly as 'sr.1')\n",
    "hr: Heart rate\n",
    "sl: Stress Level (target variable)\n",
    "\n",
    "The sl column, which represents the stress level, is our target variable. The other columns are the features we can use to predict the stress level.\n",
    "\n",
    "Next, we can proceed with the following steps:\n",
    "\n",
    "- Feature Renaming: The column 'sr.1' should be renamed for clarity, as it represents the number of hours of sleep.\n",
    "- Data Normalization: Since the features have different scales, it's beneficial to normalize or standardize the data.\n",
    "- Feature and Model Selection: Based on the nature of our target variable (stress level), which is categorical, a classification algorithm would be appropriate. Algorithms such as Random Forest, Gradient Boosting, or Logistic Regression could also be considered.\n",
    "- Splitting the Data: Divide the dataset into training and testing sets.\n",
    "- Model Training and Evaluation: Train the model on the training set and evaluate its performance on the test set.\n",
    "Let's start by renaming the 'sr.1' column and normalizing the data. Then, we'll choose a suitable model for classification."
   ]
  },
  {
   "cell_type": "code",
   "execution_count": 5,
   "id": "cde790ff0272a0a6",
   "metadata": {
    "ExecuteTime": {
     "end_time": "2023-11-17T03:27:43.854130Z",
     "start_time": "2023-11-17T03:27:43.823002Z"
    },
    "collapsed": false
   },
   "outputs": [
    {
     "data": {
      "text/plain": [
       "(sr      0\n",
       " rr      0\n",
       " t       0\n",
       " lm      0\n",
       " bo      0\n",
       " rem     0\n",
       " sr.1    0\n",
       " hr      0\n",
       " sl      0\n",
       " dtype: int64,\n",
       "                sr          rr          t          lm          bo         rem  \\\n",
       " count  630.000000  630.000000  630.00000  630.000000  630.000000  630.000000   \n",
       " mean    71.600000   21.800000   92.80000   11.700000   90.900000   88.500000   \n",
       " std     19.372833    3.966111    3.52969    4.299629    3.902483   11.893747   \n",
       " min     45.000000   16.000000   85.00000    4.000000   82.000000   60.000000   \n",
       " 25%     52.500000   18.500000   90.50000    8.500000   88.500000   81.250000   \n",
       " 50%     70.000000   21.000000   93.00000   11.000000   91.000000   90.000000   \n",
       " 75%     91.250000   25.000000   95.50000   15.750000   94.250000   98.750000   \n",
       " max    100.000000   30.000000   99.00000   19.000000   97.000000  105.000000   \n",
       " \n",
       "              sr.1          hr          sl  \n",
       " count  630.000000  630.000000  630.000000  \n",
       " mean     3.700000   64.500000    2.000000  \n",
       " std      3.054572    9.915277    1.415337  \n",
       " min      0.000000   50.000000    0.000000  \n",
       " 25%      0.500000   56.250000    1.000000  \n",
       " 50%      3.500000   62.500000    2.000000  \n",
       " 75%      6.500000   72.500000    3.000000  \n",
       " max      9.000000   85.000000    4.000000  )"
      ]
     },
     "execution_count": 5,
     "metadata": {},
     "output_type": "execute_result"
    }
   ],
   "source": [
    "missing_values = sayopillow_data.isnull().sum()\n",
    "basic_statistics = sayopillow_data.describe()\n",
    "\n",
    "missing_values, basic_statistics\n",
    "\n"
   ]
  },
  {
   "cell_type": "markdown",
   "id": "add47f3847570cf3",
   "metadata": {
    "collapsed": false
   },
   "source": [
    "We have 630 samples so let's split 80% of the data for training and 20% for testing. We have 504 samples in the training set and 126 samples in the testing set, with 8 features each.\n",
    "\n",
    " Given the nature of the dataset and that this is a classification problem, I suggest using a Gradient Boosting Classifier. This model is often effective for classification tasks with different feature types and scales, as it builds multiple decision trees sequentially and each tree is corrected by the tree before it.\n",
    "\n",
    "Let's proceed with the following steps:\n",
    "\n",
    "- Model Training: Train the Gradient Boosting Classifier on the training set.\n",
    "- Model Evaluation: Evaluate the model's performance on the test set using metrics like accuracy, precision, recall, and F1-score."
   ]
  },
  {
   "cell_type": "code",
   "execution_count": 6,
   "id": "db91bf7305f2d9de",
   "metadata": {
    "ExecuteTime": {
     "end_time": "2023-11-17T03:35:59.547666Z",
     "start_time": "2023-11-17T03:35:50.532355Z"
    },
    "collapsed": false
   },
   "outputs": [
    {
     "data": {
      "text/plain": [
       "((504, 8), (126, 8), (504,), (126,))"
      ]
     },
     "execution_count": 6,
     "metadata": {},
     "output_type": "execute_result"
    }
   ],
   "source": [
    "from sklearn.model_selection import train_test_split\n",
    "from sklearn.preprocessing import StandardScaler\n",
    "\n",
    "# Renaming the 'sr.1' column to 'hours_of_sleep'\n",
    "sayopillow_data.rename(columns={'sr.1': 'hours_of_sleep'}, inplace=True)\n",
    "\n",
    "# Separating features and target variable\n",
    "X = sayopillow_data.drop('sl', axis=1)\n",
    "y = sayopillow_data['sl']\n",
    "\n",
    "# Normalizing the data\n",
    "scaler = StandardScaler()\n",
    "X_scaled = scaler.fit_transform(X)\n",
    "\n",
    "# Splitting the dataset into training and testing sets\n",
    "X_train, X_test, y_train, y_test = train_test_split(X_scaled, y, test_size=0.2, random_state=42)\n",
    "\n",
    "# Checking the shape of the training and testing sets\n",
    "X_train.shape, X_test.shape, y_train.shape, y_test.shape\n",
    "\n"
   ]
  },
  {
   "cell_type": "code",
   "execution_count": 7,
   "id": "3a90ecc8fc72d2a9",
   "metadata": {
    "ExecuteTime": {
     "end_time": "2023-11-17T03:37:42.081676Z",
     "start_time": "2023-11-17T03:37:41.680352Z"
    },
    "collapsed": false
   },
   "outputs": [
    {
     "data": {
      "text/plain": [
       "(0.9761904761904762,\n",
       " '              precision    recall  f1-score   support\\n\\n           0       0.96      1.00      0.98        23\\n           1       1.00      0.92      0.96        24\\n           2       0.93      1.00      0.97        28\\n           3       1.00      0.96      0.98        26\\n           4       1.00      1.00      1.00        25\\n\\n    accuracy                           0.98       126\\n   macro avg       0.98      0.98      0.98       126\\nweighted avg       0.98      0.98      0.98       126\\n')"
      ]
     },
     "execution_count": 7,
     "metadata": {},
     "output_type": "execute_result"
    }
   ],
   "source": [
    "from sklearn.ensemble import GradientBoostingClassifier\n",
    "from sklearn.metrics import classification_report, accuracy_score\n",
    "\n",
    "# Train using the Gradient Boosting Classifier\n",
    "gb_classifier = GradientBoostingClassifier(random_state=42)\n",
    "gb_classifier.fit(X_train, y_train)\n",
    "\n",
    "# Making predictions on the test set\n",
    "y_pred = gb_classifier.predict(X_test)\n",
    "\n",
    "# Evaluate model\n",
    "accuracy = accuracy_score(y_test, y_pred)\n",
    "classification_rep = classification_report(y_test, y_pred)\n",
    "\n",
    "accuracy, classification_rep\n",
    "\n"
   ]
  },
  {
   "cell_type": "markdown",
   "id": "ffdfb47d83c59f82",
   "metadata": {
    "collapsed": false
   },
   "source": [
    "**Overall Accuracy**: The model achieved an accuracy of approximately **97.6%**. This high accuracy level indicates a strong precision in predicting stress levels based on the given physiological parameters.\n",
    "\n",
    "### Metrics\n",
    "\n",
    "1. **Precision**\n",
    "   - Precision measures accuracy of positive predictions.\n",
    "   - **Example**: When the model predicts stress level 1, it is correct 100% of the time.\n",
    "\n",
    "2. **Recall**\n",
    "   - Recall indicates the model's ability to find all relevant instances within each category.\n",
    "   - **Example**: The model correctly identifies 100% of all true instances of stress level 0.\n",
    "\n",
    "3. **F1-Score**\n",
    "   - The F1-score provides a balance between precision and recall.\n",
    "   - It gives a fuller view of the model's accuracy across each category."
   ]
  },
  {
   "cell_type": "code",
   "execution_count": 13,
   "id": "69495fcdd984aef5",
   "metadata": {
    "ExecuteTime": {
     "end_time": "2023-11-17T03:59:43.435515Z",
     "start_time": "2023-11-17T03:59:43.341637Z"
    },
    "collapsed": false
   },
   "outputs": [
    {
     "data": {
      "image/png": "[encoded data removed]",
      "text/plain": [
       "<Figure size 1000x700 with 2 Axes>"
      ]
     },
     "metadata": {},
     "output_type": "display_data"
    }
   ],
   "source": [
    "from sklearn.metrics import confusion_matrix\n",
    "import matplotlib.pyplot as plt\n",
    "import seaborn as sns\n",
    "\n",
    "# generate confusion matrix\n",
    "cm = confusion_matrix(y_test, y_pred)\n",
    "\n",
    "# confusion matrix\n",
    "plt.figure(figsize=(10, 7))\n",
    "sns.heatmap(cm, annot=True, fmt='g', cmap='Blues', xticklabels=[0, 1, 2, 3, 4], yticklabels=[0, 1, 2, 3, 4])\n",
    "plt.xlabel('Predicted')\n",
    "plt.ylabel('True')\n",
    "plt.title('Confusion Matrix')\n",
    "plt.show()\n"
   ]
  },
  {
   "cell_type": "markdown",
   "id": "836e55c44705411d",
   "metadata": {
    "collapsed": false
   },
   "source": [
    "## Confusion Matrix\n",
    "displays the true labels versus the predicted labels.\n",
    "- **Diagonal Elements**: these represent correct predictions, where the predicted stress level matches the true stress level.\n",
    "- **Off-Diagonal Elements**: These indicate misclassifications, where the model's predictions differ from the actual stress levels.\n",
    "- **Insight**: This helps us understand the model's accuracy more, showing where it does well and has errors.\n",
    "\n"
   ]
  },
  {
   "cell_type": "code",
   "execution_count": 12,
   "id": "cc98a008f4e019f2",
   "metadata": {
    "ExecuteTime": {
     "end_time": "2023-11-17T03:59:23.989591Z",
     "start_time": "2023-11-17T03:59:23.895264Z"
    },
    "collapsed": false
   },
   "outputs": [
    {
     "data": {
      "image/png": "[encoded data removed]",
      "text/plain": [
       "<Figure size 1000x600 with 1 Axes>"
      ]
     },
     "metadata": {},
     "output_type": "display_data"
    }
   ],
   "source": [
    "feature_importance = gb_classifier.feature_importances_\n",
    "features = sayopillow_data.columns[:-1]  # excluding the target variable\n",
    "plt.figure(figsize=(10, 6))\n",
    "sns.barplot(x=feature_importance, y=features)\n",
    "plt.title('Feature Importances')\n",
    "plt.show()"
   ]
  },
  {
   "cell_type": "markdown",
   "id": "fa2d807311b6710",
   "metadata": {
    "collapsed": false
   },
   "source": [
    "## Feature Importance Plot\n",
    "highlights the importance of each feature in the model’s decision-making process.\n",
    "- **Observations**: \n",
    "  - Features with higher importance scores have a greater impact on the model's predictions.\n",
    "  - This helps in understanding which physiological parameters (like heart rate or sleep duration) are most influential in predicting stress levels."
   ]
  },
  {
   "cell_type": "code",
   "execution_count": 14,
   "id": "9d4e9c379e42f611",
   "metadata": {
    "ExecuteTime": {
     "end_time": "2023-11-17T03:59:58.799099Z",
     "start_time": "2023-11-17T03:59:58.742048Z"
    },
    "collapsed": false
   },
   "outputs": [
    {
     "data": {
      "image/png": "[encoded data removed]",
      "text/plain": [
       "<Figure size 1000x600 with 1 Axes>"
      ]
     },
     "metadata": {},
     "output_type": "display_data"
    }
   ],
   "source": [
    "# Ensure that y_pred is of type 'category'\n",
    "y_pred_categorical = pd.Categorical(y_pred, categories=[0, 1, 2, 3, 4])\n",
    "\n",
    "plt.figure(figsize=(10, 6))\n",
    "sns.countplot(y_pred_categorical)\n",
    "plt.title('Distribution of Predicted Stress Levels')\n",
    "plt.xlabel('Stress Level')\n",
    "plt.ylabel('Count')\n",
    "plt.show()"
   ]
  },
  {
   "cell_type": "markdown",
   "id": "c3d0c0f7f87e6627",
   "metadata": {
    "collapsed": false
   },
   "source": [
    "## Distribution of Predicted Stress Levels\n",
    "shows how the model's predictions are distributed across the different stress levels.\n",
    "- **Analysis**: \n",
    "  - A more balanced distribution suggests that the model does not have a bias towards a specific stress level.\n",
    "  - It provides an overview of the model's tendency to predict certain stress levels more or less frequently."
   ]
  },
  {
   "cell_type": "code",
   "execution_count": 2,
   "id": "2e13475278794e13",
   "metadata": {
    "collapsed": false
   },
   "outputs": [
    {
     "name": "stdout",
     "output_type": "stream",
     "text": [
      "Shape of X: (630, 8)\n",
      "Shape of y: (630,)\n"
     ]
    }
   ],
   "source": [
    "import pandas as pd\n",
    "\n",
    "# Read the CSV file\n",
    "data = pd.read_csv('SaYoPillow.csv')\n",
    "\n",
    "# Extract features (X) and target variable (y)\n",
    "X = data.iloc[:, :-1]  # Selects all rows and the first 10 columns as features\n",
    "y = data.iloc[:, -1]   # Selects all rows and the last column as the target variable\n",
    "\n",
    "# Displaying the shapes of X and y\n",
    "print(f'Shape of X: {X.shape}')  # Should show (number_of_samples, 10)\n",
    "print(f'Shape of y: {y.shape}')  # Should show (number_of_samples,)\n"
   ]
  },
  {
   "cell_type": "code",
   "execution_count": 3,
   "id": "a68f158b",
   "metadata": {},
   "outputs": [
    {
     "name": "stdout",
     "output_type": "stream",
     "text": [
      "Accuracy: 1.0\n",
      "Classification Report:\n",
      "               precision    recall  f1-score   support\n",
      "\n",
      "           0       1.00      1.00      1.00        23\n",
      "           1       1.00      1.00      1.00        24\n",
      "           2       1.00      1.00      1.00        28\n",
      "           3       1.00      1.00      1.00        26\n",
      "           4       1.00      1.00      1.00        25\n",
      "\n",
      "    accuracy                           1.00       126\n",
      "   macro avg       1.00      1.00      1.00       126\n",
      "weighted avg       1.00      1.00      1.00       126\n",
      "\n"
     ]
    }
   ],
   "source": [
    "from sklearn import svm\n",
    "from sklearn.model_selection import train_test_split\n",
    "from sklearn.preprocessing import StandardScaler\n",
    "from sklearn.metrics import accuracy_score, classification_report\n",
    "\n",
    "# Assume 'X' contains your features (heart rate, respiration rate, etc.) and 'y' contains the corresponding stress levels\n",
    "\n",
    "# Split data into train and test sets\n",
    "X_train, X_test, y_train, y_test = train_test_split(X, y, test_size=0.2, random_state=42)\n",
    "\n",
    "# Feature scaling (important for SVM)\n",
    "scaler = StandardScaler()\n",
    "X_train_scaled = scaler.fit_transform(X_train)\n",
    "X_test_scaled = scaler.transform(X_test)\n",
    "\n",
    "# Create SVM classifier\n",
    "clf = svm.SVC(kernel='linear')  # You can choose different kernels (linear, polynomial, RBF, etc.)\n",
    "\n",
    "# Train the classifier\n",
    "clf.fit(X_train_scaled, y_train)\n",
    "\n",
    "# Make predictions\n",
    "y_pred = clf.predict(X_test_scaled)\n",
    "\n",
    "# Evaluate the model\n",
    "accuracy = accuracy_score(y_test, y_pred)\n",
    "report = classification_report(y_test, y_pred)\n",
    "\n",
    "print(f'Accuracy: {accuracy}')\n",
    "print('Classification Report:\\n', report)\n"
   ]
  },
  {
   "cell_type": "markdown",
   "id": "7c1dcc29ad811088",
   "metadata": {
    "collapsed": false
   },
   "source": [
    "## Citations\n",
    "\n",
    "- L. Rachakonda, A. K. Bapatla, S. P. Mohanty, and E. Kougianos, \"SaYoPillow: Blockchain-Integrated Privacy-Assured IoMT Framework for Stress Management Considering Sleeping Habits\", *IEEE Transactions on Consumer Electronics (TCE)*, Vol. 67, No. 1, Feb 2021, pp. 20-29.\n",
    "- L. Rachakonda, S. P. Mohanty, E. Kougianos, K. Karunakaran, and M. Ganapathiraju, \"Smart-Pillow: An IoT based Device for Stress Detection Considering Sleeping Habits\", in Proceedings of the 4th IEEE International Symposium on Smart Electronic Systems (iSES), 2018, pp. 161--166."
   ]
  }
 ],
 "metadata": {
  "kernelspec": {
   "display_name": "base",
   "language": "python",
   "name": "python3"
  },
  "language_info": {
   "codemirror_mode": {
    "name": "ipython",
    "version": 3
   },
   "file_extension": ".py",
   "mimetype": "text/x-python",
   "name": "python",
   "nbconvert_exporter": "python",
   "pygments_lexer": "ipython3",
   "version": "3.9.13"
  },
  "vscode": {
   "interpreter": {
    "hash": "f3abe84ddc6c6e8252ddf73a6f10d0a01f5d40354a3f5cbd222d20dc998aab57"
   }
  }
 },
 "nbformat": 4,
 "nbformat_minor": 5
}
